{
 "cells": [
  {
   "cell_type": "markdown",
   "id": "090af7bb",
   "metadata": {},
   "source": [
    "## Visualising the segments using a treemap\n",
    "##  RFM segment labels have been assigned to the customers in the data set from the SQL RFM analysis, this is used to create a treemap to visualise the data. First, a new dataframe called df_treemap is created that includes the count of the total customers within each RFM segment, then Matplotlib and Squarify are used to create a treemap visualisation."
   ]
  },
  {
   "cell_type": "code",
   "execution_count": 2,
   "id": "7d20353b",
   "metadata": {},
   "outputs": [
    {
     "name": "stdout",
     "output_type": "stream",
     "text": [
      "Collecting squarify\n",
      "  Downloading squarify-0.4.3-py3-none-any.whl (4.3 kB)\n",
      "Installing collected packages: squarify\n",
      "Successfully installed squarify-0.4.3\n",
      "Note: you may need to restart the kernel to use updated packages.\n"
     ]
    }
   ],
   "source": [
    "pip install squarify"
   ]
  },
  {
   "cell_type": "code",
   "execution_count": 3,
   "id": "f94b3859",
   "metadata": {},
   "outputs": [],
   "source": [
    "import pandas as pd\n",
    "import matplotlib.pyplot as plt\n",
    "import squarify"
   ]
  },
  {
   "cell_type": "code",
   "execution_count": 4,
   "id": "e52bc005",
   "metadata": {},
   "outputs": [
    {
     "data": {
      "text/html": [
       "<div>\n",
       "<style scoped>\n",
       "    .dataframe tbody tr th:only-of-type {\n",
       "        vertical-align: middle;\n",
       "    }\n",
       "\n",
       "    .dataframe tbody tr th {\n",
       "        vertical-align: top;\n",
       "    }\n",
       "\n",
       "    .dataframe thead th {\n",
       "        text-align: right;\n",
       "    }\n",
       "</style>\n",
       "<table border=\"1\" class=\"dataframe\">\n",
       "  <thead>\n",
       "    <tr style=\"text-align: right;\">\n",
       "      <th></th>\n",
       "      <th>CUSTOMERNAME</th>\n",
       "      <th>rfm_recency</th>\n",
       "      <th>rfm_frequency</th>\n",
       "      <th>rfm_monetary</th>\n",
       "      <th>rfm_segment</th>\n",
       "    </tr>\n",
       "  </thead>\n",
       "  <tbody>\n",
       "    <tr>\n",
       "      <th>76</th>\n",
       "      <td>L'ordine Souveniers</td>\n",
       "      <td>4</td>\n",
       "      <td>4</td>\n",
       "      <td>4</td>\n",
       "      <td>loyal</td>\n",
       "    </tr>\n",
       "    <tr>\n",
       "      <th>69</th>\n",
       "      <td>Corrida Auto Replicas, Ltd</td>\n",
       "      <td>2</td>\n",
       "      <td>3</td>\n",
       "      <td>4</td>\n",
       "      <td>potential churners</td>\n",
       "    </tr>\n",
       "    <tr>\n",
       "      <th>55</th>\n",
       "      <td>Heintze Collectables</td>\n",
       "      <td>2</td>\n",
       "      <td>3</td>\n",
       "      <td>3</td>\n",
       "      <td>potential churners</td>\n",
       "    </tr>\n",
       "    <tr>\n",
       "      <th>87</th>\n",
       "      <td>La Rochelle Gifts</td>\n",
       "      <td>4</td>\n",
       "      <td>4</td>\n",
       "      <td>4</td>\n",
       "      <td>loyal</td>\n",
       "    </tr>\n",
       "    <tr>\n",
       "      <th>80</th>\n",
       "      <td>Corporate Gift Ideas Co.</td>\n",
       "      <td>3</td>\n",
       "      <td>4</td>\n",
       "      <td>4</td>\n",
       "      <td>slipping away, cannot lose</td>\n",
       "    </tr>\n",
       "  </tbody>\n",
       "</table>\n",
       "</div>"
      ],
      "text/plain": [
       "                  CUSTOMERNAME  rfm_recency  rfm_frequency  rfm_monetary  \\\n",
       "76         L'ordine Souveniers            4              4             4   \n",
       "69  Corrida Auto Replicas, Ltd            2              3             4   \n",
       "55        Heintze Collectables            2              3             3   \n",
       "87           La Rochelle Gifts            4              4             4   \n",
       "80    Corporate Gift Ideas Co.            3              4             4   \n",
       "\n",
       "                   rfm_segment  \n",
       "76                       loyal  \n",
       "69          potential churners  \n",
       "55          potential churners  \n",
       "87                       loyal  \n",
       "80  slipping away, cannot lose  "
      ]
     },
     "execution_count": 4,
     "metadata": {},
     "output_type": "execute_result"
    }
   ],
   "source": [
    "df = pd.read_csv('RFM_segment_Visualisation.csv')\n",
    "df.sample(5)"
   ]
  },
  {
   "cell_type": "code",
   "execution_count": 5,
   "id": "e960e042",
   "metadata": {},
   "outputs": [],
   "source": [
    "df_treemap = df.groupby('rfm_segment').agg(\n",
    "    customers=('CUSTOMERNAME', 'count')\n",
    ").reset_index()"
   ]
  },
  {
   "cell_type": "code",
   "execution_count": 6,
   "id": "f4b7e28e",
   "metadata": {},
   "outputs": [
    {
     "data": {
      "text/html": [
       "<div>\n",
       "<style scoped>\n",
       "    .dataframe tbody tr th:only-of-type {\n",
       "        vertical-align: middle;\n",
       "    }\n",
       "\n",
       "    .dataframe tbody tr th {\n",
       "        vertical-align: top;\n",
       "    }\n",
       "\n",
       "    .dataframe thead th {\n",
       "        text-align: right;\n",
       "    }\n",
       "</style>\n",
       "<table border=\"1\" class=\"dataframe\">\n",
       "  <thead>\n",
       "    <tr style=\"text-align: right;\">\n",
       "      <th></th>\n",
       "      <th>rfm_segment</th>\n",
       "      <th>customers</th>\n",
       "    </tr>\n",
       "  </thead>\n",
       "  <tbody>\n",
       "    <tr>\n",
       "      <th>0</th>\n",
       "      <td>active</td>\n",
       "      <td>16</td>\n",
       "    </tr>\n",
       "    <tr>\n",
       "      <th>1</th>\n",
       "      <td>lost_customers</td>\n",
       "      <td>21</td>\n",
       "    </tr>\n",
       "    <tr>\n",
       "      <th>2</th>\n",
       "      <td>loyal</td>\n",
       "      <td>14</td>\n",
       "    </tr>\n",
       "    <tr>\n",
       "      <th>3</th>\n",
       "      <td>new customers</td>\n",
       "      <td>6</td>\n",
       "    </tr>\n",
       "    <tr>\n",
       "      <th>4</th>\n",
       "      <td>potential churners</td>\n",
       "      <td>18</td>\n",
       "    </tr>\n",
       "  </tbody>\n",
       "</table>\n",
       "</div>"
      ],
      "text/plain": [
       "          rfm_segment  customers\n",
       "0              active         16\n",
       "1      lost_customers         21\n",
       "2               loyal         14\n",
       "3       new customers          6\n",
       "4  potential churners         18"
      ]
     },
     "execution_count": 6,
     "metadata": {},
     "output_type": "execute_result"
    }
   ],
   "source": [
    "df_treemap.head()"
   ]
  },
  {
   "cell_type": "code",
   "execution_count": 7,
   "id": "fd634c2e",
   "metadata": {},
   "outputs": [
    {
     "data": {
      "image/png": "[encoded data removed]",
      "text/plain": [
       "<Figure size 720x720 with 1 Axes>"
      ]
     },
     "metadata": {
      "needs_background": "light"
     },
     "output_type": "display_data"
    }
   ],
   "source": [
    "fig, ax = plt.subplots(1, figsize = (10,10))\n",
    "\n",
    "squarify.plot(sizes=df_treemap['customers'], \n",
    "              label=df_treemap['rfm_segment'], \n",
    "              alpha=.8,\n",
    "              color=['tab:red', 'tab:purple', 'tab:brown', 'tab:pink', 'tab:gray']\n",
    "             )\n",
    "plt.axis('off')\n",
    "plt.show()"
   ]
  },
  {
   "cell_type": "markdown",
   "id": "c3f01787",
   "metadata": {},
   "source": [
    "## The treemap gives  a really clear view of the named RFM segments and the relative volumes of customers present in each one. The lost_customers and potential churners  segments could  dumped into a “churned” segment using an alternative binning approach and can be excluded from costly marketing activity."
   ]
  },
  {
   "cell_type": "markdown",
   "id": "903af140",
   "metadata": {},
   "source": [
    "## Further reading\n",
    "## Kabaskal, İ., 2020. Customer Segmentation Based On Recency Frequency Monetary Model: A Case Study in E-Retailing. International Journal of InformaticsTechnologies, 13(1).\n",
    "\n",
    "## Putler Analytics – RFM analysis for successful customer segmentation, https://www.putler.com/rfm-analysis, 26.04.2019.\n",
    "\n",
    "## Uysal, Ü.C., 2019. RFM-based Customer Analytics in Public Procurement Sector (Doctoral dissertation, Ankara Yıldırım Beyazıt Üniversitesi Sosyal Bilimler Enstitüsü)."
   ]
  },
  {
   "cell_type": "code",
   "execution_count": null,
   "id": "f91035cb",
   "metadata": {},
   "outputs": [],
   "source": []
  }
 ],
 "metadata": {
  "kernelspec": {
   "display_name": "Python 3 (ipykernel)",
   "language": "python",
   "name": "python3"
  },
  "language_info": {
   "codemirror_mode": {
    "name": "ipython",
    "version": 3
   },
   "file_extension": ".py",
   "mimetype": "text/x-python",
   "name": "python",
   "nbconvert_exporter": "python",
   "pygments_lexer": "ipython3",
   "version": "3.9.12"
  }
 },
 "nbformat": 4,
 "nbformat_minor": 5
}
